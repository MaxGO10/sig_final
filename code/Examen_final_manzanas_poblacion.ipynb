{
 "cells": [
  {
   "cell_type": "markdown",
   "id": "f0c6fca9",
   "metadata": {},
   "source": [
    "# Recortar un área"
   ]
  },
  {
   "cell_type": "code",
   "execution_count": null,
   "id": "59e0480a",
   "metadata": {},
   "outputs": [],
   "source": [
    "#Importar librería\n",
    "import arcpy"
   ]
  },
  {
   "cell_type": "code",
   "execution_count": null,
   "id": "e4298a3a",
   "metadata": {},
   "outputs": [],
   "source": [
    "#Cargar las capas shapefile\n",
    "manzanas=r\"C:\\Users\\HP\\Desktop\\ex_final\\CHINCHA_ICA_1102_Manzanas_Poblacion_JP_SuyoPomalia_geogpsperu_931381206.shp\"\n",
    "distrito=r\"C:\\Users\\HP\\Desktop\\ex_final\\SUNAMPE.shp\""
   ]
  },
  {
   "cell_type": "code",
   "execution_count": null,
   "id": "c57963c7",
   "metadata": {},
   "outputs": [],
   "source": [
    "#Crear feature class\n",
    "clip=arcpy.MakeFeatureLayer_management(manzanas, \"manzanas\")\n",
    "sunampe=arcpy.MakeFeatureLayer_management(distrito, \"sunampe\")"
   ]
  },
  {
   "cell_type": "code",
   "execution_count": null,
   "id": "1b3519f6",
   "metadata": {},
   "outputs": [],
   "source": [
    "#Recortar las capas\n",
    "output=r\"C:\\Users\\HP\\Desktop\\ex_final\\clip_manzanas.shp\"\n",
    "arcpy.analysis.Clip(clip,sunampe,output)"
   ]
  },
  {
   "cell_type": "markdown",
   "id": "a6090471",
   "metadata": {},
   "source": [
    "# Mapa temático"
   ]
  },
  {
   "cell_type": "code",
   "execution_count": 1,
   "id": "6c04fce9",
   "metadata": {},
   "outputs": [],
   "source": [
    "#Importar librerías\n",
    "import pandas as pd\n",
    "import numpy as np\n",
    "import geopandas as gpd\n",
    "import matplotlib.pyplot as plt\n",
    "import os \n",
    "import mapclassify"
   ]
  },
  {
   "cell_type": "code",
   "execution_count": null,
   "id": "4175883a",
   "metadata": {},
   "outputs": [],
   "source": [
    "#Cambiar el directorio de trabajo\n",
    "os.chdir(r\"C:\\Users\\HP\\Desktop\\ex_final\\clip\")"
   ]
  },
  {
   "cell_type": "code",
   "execution_count": null,
   "id": "b6513f3c",
   "metadata": {},
   "outputs": [],
   "source": [
    "#Importar la data\n",
    "map_df=gpd.read_file(\"clip_manzanas.shp\")\n",
    "map_df.head()\n",
    "map_df.plot()"
   ]
  },
  {
   "cell_type": "code",
   "execution_count": null,
   "id": "3c5be09c",
   "metadata": {},
   "outputs": [],
   "source": [
    "#Modelando el mapa\n",
    "geoplot.choropleth(map_df,\n",
    "                   hue=\"T_HOMBRES\",\n",
    "                   scheme=mapclassify.Quantiles(map_df[\"T_HOMBRES\"], k=3),\n",
    "                   cmap=\"OrRd\", edgecolor=\"black\",\n",
    "                   legend_labels=[\"Menos Poblada\", \"Normalmente Poblada\",\"Densamente Poblada\"],\n",
    "                   legend_kwargs={\"loc\":\"best\",\n",
    "                                  \"fontsize\": \"large\",\n",
    "                                  \"title\":\"Población\",\n",
    "                                  \"title_fontsize\":\"large\"},\n",
    "                   figsize=(15,7), legend=True,\n",
    "                  );\n",
    "\n",
    "plt.title(\"Población de hombres\", fontdict={\"fontsize\": 15}, pad=5);\n",
    "plt.axis(\"on\")\n",
    "plt.show()"
   ]
  }
 ],
 "metadata": {
  "kernelspec": {
   "display_name": "Python 3 (ipykernel)",
   "language": "python",
   "name": "python3"
  },
  "language_info": {
   "codemirror_mode": {
    "name": "ipython",
    "version": 3
   },
   "file_extension": ".py",
   "mimetype": "text/x-python",
   "name": "python",
   "nbconvert_exporter": "python",
   "pygments_lexer": "ipython3",
   "version": "3.9.15"
  }
 },
 "nbformat": 4,
 "nbformat_minor": 5
}
