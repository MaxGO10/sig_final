{
 "cells": [
  {
   "cell_type": "code",
   "execution_count": 86,
   "metadata": {},
   "outputs": [],
   "source": [
    "import arcpy\n",
    "# arcpy.checkOutExtension(\"Spatial\")\n",
    "# arcpy.CheckOutExtension(\"Image\")\n",
    "from arcpy.sa import *\n",
    "from arcpy.ia import *\n",
    "#import geopandas as gpd\n",
    "import pandas as pd\n",
    "import matplotlib.pyplot as plt\n"
   ]
  },
  {
   "cell_type": "code",
   "execution_count": 87,
   "metadata": {},
   "outputs": [],
   "source": [
    "arcpy.env.workspace=r\"C:\\Users\\gonza\\OneDrive\\DOCUMENTOS\\ArcGIS\\Projects\\practicafinal\\practicafinal.gdb\"\n",
    "arcpy.env.overwriteOutput = True"
   ]
  },
  {
   "cell_type": "code",
   "execution_count": 88,
   "metadata": {},
   "outputs": [],
   "source": [
    "#curvas de nivel\n",
    "merge_curvas=r\"C:\\Users\\gonza\\OneDrive\\DOCUMENTOS\\SIG_2022\\curvas\\curvas_nivel_t\\curvas_nivel_t.shp\"\n",
    "#shapefile de cuenca\n",
    "shp_cuenca=r\"C:\\Users\\gonza\\OneDrive\\DOCUMENTOS\\SIG_2022\\cuenca_lim_chilca\\Cuenca_Chilca.shp\""
   ]
  },
  {
   "cell_type": "code",
   "execution_count": 89,
   "metadata": {},
   "outputs": [],
   "source": [
    "#Creando un feature layer a partir de un feature class de las curvas\n",
    "merge=arcpy.MakeFeatureLayer_management(merge_curvas,\"merge_curvas\")\n",
    "#creando un feature layer a partir de un feature class de las cuencas\n",
    "cuenca=arcpy.MakeFeatureLayer_management(shp_cuenca,\"cuenca_chilca\")"
   ]
  },
  {
   "cell_type": "code",
   "execution_count": 90,
   "metadata": {},
   "outputs": [
    {
     "data": {
      "text/plain": [
       "<Result 'C:\\\\Users\\\\gonza\\\\OneDrive\\\\DOCUMENTOS\\\\SIG_2022\\\\output_final\\\\clip_chilca.shp'>"
      ]
     },
     "execution_count": 90,
     "metadata": {},
     "output_type": "execute_result"
    }
   ],
   "source": [
    "#outpath\n",
    "ruta_sal=r\"C:\\Users\\gonza\\OneDrive\\DOCUMENTOS\\SIG_2022\\output_final\\clip_chilca.shp\"\n",
    "#clip\n",
    "arcpy.analysis.Clip(merge, cuenca, ruta_sal)"
   ]
  },
  {
   "cell_type": "code",
   "execution_count": 91,
   "metadata": {},
   "outputs": [],
   "source": [
    "sr = arcpy.Describe(ruta_sal).spatialReference\n"
   ]
  },
  {
   "cell_type": "code",
   "execution_count": 96,
   "metadata": {},
   "outputs": [
    {
     "data": {
      "text/plain": [
       "<Result 'C:\\\\Users\\\\gonza\\\\OneDrive\\\\DOCUMENTOS\\\\ArcGIS\\\\Projects\\\\practicafinal\\\\TIN'>"
      ]
     },
     "execution_count": 96,
     "metadata": {},
     "output_type": "execute_result"
    }
   ],
   "source": [
    "arcpy.ddd.CreateTin(\"TIN\",sr, \n",
    "                        \"clip_chilca Z Mass_Points <None>\",\n",
    "                        \"DELAUNAY\")"
   ]
  },
  {
   "cell_type": "code",
   "execution_count": 97,
   "metadata": {},
   "outputs": [
    {
     "data": {
      "text/plain": [
       "<Result 'C:\\\\Users\\\\gonza\\\\OneDrive\\\\DOCUMENTOS\\\\ArcGIS\\\\Projects\\\\tin_pynt\\\\TIN'>"
      ]
     },
     "execution_count": 97,
     "metadata": {},
     "output_type": "execute_result"
    }
   ],
   "source": [
    "tin"
   ]
  },
  {
   "cell_type": "code",
   "execution_count": 98,
   "metadata": {},
   "outputs": [],
   "source": [
    "out_raster=r\"C:\\output_sig\\DEM\" \n"
   ]
  },
  {
   "cell_type": "code",
   "execution_count": 106,
   "metadata": {},
   "outputs": [
    {
     "data": {
      "text/plain": [
       "<Result 'C:\\\\Users\\\\gonza\\\\OneDrive\\\\DOCUMENTOS\\\\ArcGIS\\\\Projects\\\\practicafinal\\\\practicafinal.gdb\\\\DEM'>"
      ]
     },
     "execution_count": 106,
     "metadata": {},
     "output_type": "execute_result"
    }
   ],
   "source": [
    "arcpy.ddd.TinRaster(\"TIN\", \"DEM\", \n",
    "                    data_type=\"FLOAT\", method=\"LINEAR\", \n",
    "                     sample_distance=\"CELLSIZE\", z_factor=1,sample_value=30)"
   ]
  },
  {
   "cell_type": "code",
   "execution_count": null,
   "metadata": {},
   "outputs": [],
   "source": [
    "arcpy.management.Clip(in_raster, rectangle,\n",
    "                      out_raster, {in_template_dataset}, \n",
    "                      {nodata_value}, {clipping_geometry}, \n",
    "                      {maintain_clipping_extent})"
   ]
  },
  {
   "cell_type": "code",
   "execution_count": null,
   "metadata": {},
   "outputs": [],
   "source": [
    "arcpy.Clip_management(\"c:\\\\test\\\\image.tif\", \"2536996.21761925 7365614.23930381 2537634.12209192 7366302.3861673\", \n",
    "                      \"c:\\\\output\\\\clip.tif\", \"c:\\\\test\\\\clipfeature.shp\", \"0\", \"ClippingGeometry\", \n",
    "                      \"MAINTAIN_EXTENT\")"
   ]
  },
  {
   "cell_type": "code",
   "execution_count": 104,
   "metadata": {},
   "outputs": [],
   "source": [
    "out_raster=r\"C:\\output_sig\\clip_dem.tif\" \n",
    "  "
   ]
  },
  {
   "cell_type": "code",
   "execution_count": 109,
   "metadata": {},
   "outputs": [
    {
     "ename": "ExecuteError",
     "evalue": "ERROR 999999: Something unexpected caused the tool to fail. Contact Esri Technical Support (http://esriurl.com/support) to Report a Bug, and refer to the error help for potential solutions or workarounds.\nFailed to delete raster dataset\nFailed to execute (Clip).\n",
     "output_type": "error",
     "traceback": [
      "\u001b[0;31m---------------------------------------------------------------------------\u001b[0m\n\u001b[0;31mExecuteError\u001b[0m                              Traceback (most recent call last)",
      "In  \u001b[0;34m[109]\u001b[0m:\nLine \u001b[0;34m3\u001b[0m:     out_raster, \u001b[33m\"\u001b[39;49;00m\u001b[33mcuenca_chilca\u001b[39;49;00m\u001b[33m\"\u001b[39;49;00m, \u001b[33m\"\u001b[39;49;00m\u001b[33m3.4e+38\u001b[39;49;00m\u001b[33m\"\u001b[39;49;00m, \u001b[33m\"\u001b[39;49;00m\u001b[33mClippingGeometry\u001b[39;49;00m\u001b[33m\"\u001b[39;49;00m,\u001b[33m\"\u001b[39;49;00m\u001b[33mNO_MAINTAIN_EXTENT\u001b[39;49;00m\u001b[33m\"\u001b[39;49;00m)\n",
      "File \u001b[0;34mc:\\users\\gonza\\appdata\\local\\programs\\arcgis\\pro\\Resources\\arcpy\\arcpy\\management.py\u001b[0m, in \u001b[0;32mClip\u001b[0m:\nLine \u001b[0;34m17376\u001b[0m: \u001b[34mraise\u001b[39;49;00m e\n",
      "File \u001b[0;34mc:\\users\\gonza\\appdata\\local\\programs\\arcgis\\pro\\Resources\\arcpy\\arcpy\\management.py\u001b[0m, in \u001b[0;32mClip\u001b[0m:\nLine \u001b[0;34m17373\u001b[0m: retval = convertArcObjectToPythonObject(gp.Clip_management(*gp_fixargs((in_raster, rectangle, out_raster, in_template_dataset, nodata_value, clipping_geometry, maintain_clipping_extent), \u001b[34mTrue\u001b[39;49;00m)))\n",
      "File \u001b[0;34mc:\\users\\gonza\\appdata\\local\\programs\\arcgis\\pro\\Resources\\arcpy\\arcpy\\geoprocessing\\_base.py\u001b[0m, in \u001b[0;32m<lambda>\u001b[0m:\nLine \u001b[0;34m511\u001b[0m:   \u001b[34mreturn\u001b[39;49;00m \u001b[34mlambda\u001b[39;49;00m *args: val(*gp_fixargs(args, \u001b[34mTrue\u001b[39;49;00m))\n",
      "\u001b[0;31mExecuteError\u001b[0m: ERROR 999999: Something unexpected caused the tool to fail. Contact Esri Technical Support (http://esriurl.com/support) to Report a Bug, and refer to the error help for potential solutions or workarounds.\nFailed to delete raster dataset\nFailed to execute (Clip).\n\n\u001b[0;31m---------------------------------------------------------------------------\u001b[0m"
     ]
    }
   ],
   "source": [
    "dem=arcpy.Clip_management(\"DEM\", \n",
    "                      \"304264.596505529 8614157.81221234 356026.771549971 8653681.04262535\", \n",
    "                      out_raster, \"cuenca_chilca\", \"3.4e+38\", \"ClippingGeometry\",\"NO_MAINTAIN_EXTENT\")"
   ]
  },
  {
   "cell_type": "code",
   "execution_count": 108,
   "metadata": {},
   "outputs": [
    {
     "data": {
      "text/plain": [
       "<Result 'C:\\\\output_sig\\\\clip_dem.tif'>"
      ]
     },
     "execution_count": 108,
     "metadata": {},
     "output_type": "execute_result"
    }
   ],
   "source": [
    "dem"
   ]
  },
  {
   "cell_type": "code",
   "execution_count": null,
   "metadata": {},
   "outputs": [],
   "source": []
  }
 ],
 "metadata": {
  "kernelspec": {
   "display_name": "ArcGISPro",
   "language": "Python",
   "name": "python3"
  },
  "language_info": {
   "file_extension": ".py",
   "name": "python",
   "version": "3"
  }
 },
 "nbformat": 4,
 "nbformat_minor": 2
}
